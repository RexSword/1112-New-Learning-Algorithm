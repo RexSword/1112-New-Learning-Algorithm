{
 "cells": [
  {
   "cell_type": "markdown",
   "metadata": {},
   "source": [
    "# HW1"
   ]
  },
  {
   "cell_type": "code",
   "execution_count": 4,
   "metadata": {},
   "outputs": [],
   "source": [
    "import torch.nn as nn\n",
    "import torch.nn.functional as F"
   ]
  },
  {
   "cell_type": "code",
   "execution_count": 5,
   "metadata": {},
   "outputs": [
    {
     "name": "stdout",
     "output_type": "stream",
     "text": [
      "Model(\n",
      "  (l1): Linear(in_features=784, out_features=8, bias=True)\n",
      "  (l2): Linear(in_features=8, out_features=10, bias=True)\n",
      ")\n"
     ]
    }
   ],
   "source": [
    "# Our 2-layer NN Model\n",
    "class Model(nn.Module):\n",
    "    def __init__(self, input_size, hidden_node, output_size, activation_function=\"relu\", inti_method='small_random'):\n",
    "        super(Model, self).__init__()\n",
    "        self.l1 = nn.Linear(input_size, hidden_node)\n",
    "        self.l2 = nn.Linear(hidden_node, output_size)\n",
    "        self.act_fun = activation_function\n",
    "        self.method = inti_method\n",
    "\n",
    "    def forward(self, out):\n",
    "        if self.act_fun == 'relu':\n",
    "            out = F.relu(self.l1)\n",
    "            out = self.l2(out)\n",
    "        elif self.act_fun == 'tanh':\n",
    "            out = F.tanh(self.l1)\n",
    "            out = self.l2(out)\n",
    "        return out\n",
    "\n",
    "    def init_weights(self):\n",
    "        if self.method == 'small_random':\n",
    "            for m in self.modules():\n",
    "                nn.init.normal_(m.weight, mean=0, std=0.01)\n",
    "        elif self.method == 'xavier':\n",
    "            for m in self.modules():\n",
    "                if len(m.shape) > 1:\n",
    "                    nn.init.xavier_uniform_(m.weight)\n",
    "        elif self.method == 'kaiming':\n",
    "            for m in self.modules():\n",
    "                if len(m.shape) > 1:\n",
    "                    nn.init.kaiming_uniform_(m.weight, nonlinearity='relu')\n",
    "\n",
    "# Shape of model\n",
    "# model = Model(784, 8, 10, activation_function='tanh')\n",
    "# print(model)"
   ]
  },
  {
   "cell_type": "code",
   "execution_count": null,
   "metadata": {},
   "outputs": [],
   "source": [
    "def train_model(input_size, hidden_node, output_size, act_fun, inti_method):\n",
    "    model = model(input_size, hidden_node, output_size, activation_function=act_fun, inti_method=inti_method)\n",
    "\n",
    "\n",
    "    criterion = nn.CrossEntropyLoss()  # use cross-entropy loss for classification\n",
    "    if reg_lambda > 0:\n",
    "        l2_reg = 0.0\n",
    "        for param in model.parameters():\n",
    "            l2_reg += torch.norm(param)\n",
    "        criterion = nn.CrossEntropyLoss() + reg_lambda * l2_reg\n",
    "\n",
    "    if optimizer == 'SGD':\n",
    "        optimizer = optim.SGD(model.parameters(), lr=learning_rate)\n",
    "    elif optimizer == 'momentum':\n",
    "        optimizer = optim.SGD(model.parameters(),\n",
    "                              lr=learning_rate, momentum=0.9)\n",
    "    elif optimizer == 'Adam':\n",
    "        optimizer = optim.Adam(model.parameters(), lr=learning_rate)\n",
    "\n",
    "    train_losses = []\n",
    "    val_losses = []\n",
    "    best_val_loss = float('inf')\n",
    "    best_model = None\n",
    "    for epoch in range(num_epochs):\n",
    "        # learning rate decay schedule\n",
    "        if lr_decay_schedule == 'cosine':\n",
    "            lr = learning_rate * 0.5 * (1 + np.cos(epoch / num_epochs * np.pi))\n",
    "        else:\n",
    "            lr = learning_rate\n",
    "\n",
    "        # train\n",
    "        model.train()\n",
    "        optimizer.zero_grad()\n",
    "        inputs = torch.from_numpy(X_train).float()"
   ]
  }
 ],
 "metadata": {
  "kernelspec": {
   "display_name": "py310_pytorch",
   "language": "python",
   "name": "python3"
  },
  "language_info": {
   "codemirror_mode": {
    "name": "ipython",
    "version": 3
   },
   "file_extension": ".py",
   "mimetype": "text/x-python",
   "name": "python",
   "nbconvert_exporter": "python",
   "pygments_lexer": "ipython3",
   "version": "3.10.9"
  },
  "orig_nbformat": 4,
  "vscode": {
   "interpreter": {
    "hash": "a21b82ea369375558c73d49856b71b26ba0518e603370372fde31c6ca84641d4"
   }
  }
 },
 "nbformat": 4,
 "nbformat_minor": 2
}
